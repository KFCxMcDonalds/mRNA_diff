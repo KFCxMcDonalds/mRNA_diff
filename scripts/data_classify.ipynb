{
 "cells": [
  {
   "cell_type": "code",
   "execution_count": 4,
   "metadata": {},
   "outputs": [
    {
     "name": "stdout",
     "output_type": "stream",
     "text": [
      "已将44293PRI类序列保存到 ../data/5utr_95_64to256_PRI.fasta\n"
     ]
    }
   ],
   "source": [
    "from Bio import SeqIO\n",
    "\n",
    "# 读取输入文件\n",
    "input_file = \"../data/5utr_95_64to256.fasta\"\n",
    "output_file = \"../data/5utr_95_64to256_PRI.fasta\"\n",
    "\n",
    "count = 0\n",
    "# 筛选并保存PRI类序列\n",
    "with open(output_file, \"w\") as out_handle:\n",
    "    for record in SeqIO.parse(input_file, \"fasta\"):\n",
    "        # 解析注释信息\n",
    "        species = record.description.split()[1]\n",
    "        \n",
    "        # 如果是PRI类，则写入新文件\n",
    "        if species == \"PRI\":\n",
    "            count += 1\n",
    "            # 手动格式化FASTA记录\n",
    "            header = f\">{record.description}\\n\"\n",
    "            sequence = str(record.seq) + \"\\n\"\n",
    "            out_handle.write(header)\n",
    "            out_handle.write(sequence)\n",
    "\n",
    "print(f\"已将{count} PRI类序列保存到 {output_file}\")\n"
   ]
  },
  {
   "cell_type": "code",
   "execution_count": null,
   "metadata": {},
   "outputs": [],
   "source": []
  }
 ],
 "metadata": {
  "kernelspec": {
   "display_name": "DLLearn_GPU",
   "language": "python",
   "name": "python3"
  },
  "language_info": {
   "codemirror_mode": {
    "name": "ipython",
    "version": 3
   },
   "file_extension": ".py",
   "mimetype": "text/x-python",
   "name": "python",
   "nbconvert_exporter": "python",
   "pygments_lexer": "ipython3",
   "version": "3.8.19"
  }
 },
 "nbformat": 4,
 "nbformat_minor": 2
}
