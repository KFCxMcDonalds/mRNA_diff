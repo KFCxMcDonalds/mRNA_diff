{
 "cells": [
  {
   "cell_type": "code",
   "execution_count": 11,
   "id": "ae761910-d448-4dfe-a78e-1ae77453737e",
   "metadata": {},
   "outputs": [
    {
     "data": {
      "text/plain": [
       "'CCACGCGTCCGGGAAGCGAGCGGCTGAGTTGCTGCGGGGAAAAAATAAAAAATAAATAAAAAGCCAAATTAGTTGTGTCTTGCGGGAAGTGGAAGCCTCTGGTTGTTGTGTCTGCGGTTAAACAGCGCTTCTATTCGCGGCTTGTCTTGTTCCCAACTGTGTGAGATTTGCTAGTGACCCGGCCTGTGTACTCCCCTGCCAGGCATACATANNNNNNNNNNNNNNNNNNNNNNNNNNNNNNNNNNNNNNNNNNNNNNNNNNNNNNNNNNNNNNNNNNNNNNNNNNNNNNNNNNNNNNNNNNNNNNNNNNNNNNNNNNNNNNNNNNNNNNNNNNNNNNNNNNNNNNNNNNNNNNNNNNNNNNNNNNNNNNNNNNNNNNNNNNNNNNNNNNNNNNNNNNNNNNNNNNNNNNNNNNNNNNNNNNNNNNNNNNNNNNNNNNNNNNNNNNNNNNNNNNNNNNNNNNNNNNNNNNNNNNNNNNNNNNNNNNNNNNNNNNNNNNNNNNNNNNNNNNNNN'"
      ]
     },
     "execution_count": 11,
     "metadata": {},
     "output_type": "execute_result"
    }
   ],
   "source": [
    "from Bio import SeqIO\n",
    "\n",
    "def read_and_pad_fasta(file_path, max_length=512):\n",
    "    sequences = []\n",
    "    for record in SeqIO.parse(file_path, \"fasta\"):\n",
    "        seq = str(record.seq)\n",
    "        # 填充到指定长度\n",
    "        if len(seq) < max_length:\n",
    "            seq += 'N' * (max_length - len(seq))\n",
    "        sequences.append(seq[:max_length])  # 确保不超过max_length\n",
    "    return sequences\n",
    "\n",
    "sequences = read_and_pad_fasta(\"../../../data/5utr_95.fasta\")\n",
    "\n",
    "sequences[0]"
   ]
  },
  {
   "cell_type": "code",
   "execution_count": 12,
   "id": "67e08ea3-a2e9-4394-8278-75d49a25954f",
   "metadata": {},
   "outputs": [],
   "source": [
    "import numpy as np\n",
    "\n",
    "def one_hot_encode(sequences, max_length=512):\n",
    "    encoding = {'A': 0, 'T': 1, 'C': 2, 'G': 3, 'N': 4}\n",
    "    one_hot_encoded = np.zeros((len(sequences), max_length, 5), dtype=np.int8)\n",
    "    \n",
    "    for i, seq in enumerate(sequences):\n",
    "        for j, nucleotide in enumerate(seq):\n",
    "            if nucleotide in encoding:\n",
    "                one_hot_encoded[i, j, encoding[nucleotide]] = 1\n",
    "    \n",
    "    one_hot_encoded = np.transpose(one_hot_encoded, (0, 2, 1))\n",
    "    \n",
    "    return one_hot_encoded\n",
    "\n",
    "one_hot_sequences = one_hot_encode(sequences)"
   ]
  },
  {
   "cell_type": "code",
   "execution_count": 13,
   "id": "7a788338-ba04-431c-87da-22a9394b2c9f",
   "metadata": {},
   "outputs": [
    {
     "name": "stdout",
     "output_type": "stream",
     "text": [
      "[[0 0 1 ... 0 0 0]\n",
      " [0 0 0 ... 0 0 0]\n",
      " [1 1 0 ... 0 0 0]\n",
      " [0 0 0 ... 0 0 0]\n",
      " [0 0 0 ... 1 1 1]]\n",
      "(5, 512)\n"
     ]
    }
   ],
   "source": [
    "print(one_hot_sequences[0])\n",
    "print(one_hot_sequences[0].shape)"
   ]
  },
  {
   "cell_type": "code",
   "execution_count": 14,
   "id": "71194e63-f54c-4341-96e8-e0a9ae49d4b6",
   "metadata": {},
   "outputs": [
    {
     "name": "stdout",
     "output_type": "stream",
     "text": [
      "data saved in utr_95.pt\n"
     ]
    }
   ],
   "source": [
    "import torch\n",
    "from torch.utils.data import DataLoader, random_split, TensorDataset\n",
    "\n",
    "sequences_tensor = torch.tensor(one_hot_sequences, dtype=torch.float32)\n",
    "dataset = TensorDataset(sequences_tensor)\n",
    "\n",
    "train_size = int(0.8 * len(dataset))  # 80% 用于训练\n",
    "val_size = len(dataset) - train_size  # 剩余 20% 用于验证\n",
    "\n",
    "torch.save(sequences_tensor, '5utr_95.pt')\n",
    "\n",
    "print(f\"data saved in utr_95.pt\")"
   ]
  },
  {
   "cell_type": "code",
   "execution_count": 15,
   "id": "4b5de827-d269-4815-895e-7d51dc08b3b4",
   "metadata": {},
   "outputs": [
    {
     "name": "stdout",
     "output_type": "stream",
     "text": [
      "torch.Size([32, 5, 512])\n"
     ]
    }
   ],
   "source": [
    "# example usage\n",
    "loaded_sequences = torch.load('5utr_95.pt', weights_only=True)\n",
    "\n",
    "dataloader = DataLoader(loaded_sequences, batch_size=32)\n",
    "\n",
    "for batch in dataloader:\n",
    "    print(batch.shape)  # 输出形状为 (batch_size, 512, 5)\n",
    "    break"
   ]
  },
  {
   "cell_type": "code",
   "execution_count": 16,
   "id": "159ffc67-dcee-422d-b00e-bf00efe4cbda",
   "metadata": {},
   "outputs": [
    {
     "name": "stdout",
     "output_type": "stream",
     "text": [
      "data saved in utr_95_tmp.pt\n"
     ]
    }
   ],
   "source": [
    "import numpy as np\n",
    "\n",
    "\n",
    "# ===== delete later ====\n",
    "import torch\n",
    "from torch.utils.data import DataLoader, random_split, TensorDataset\n",
    "\n",
    "sequences_tensor = torch.tensor(one_hot_sequences[0:1000], dtype=torch.float32)\n",
    "dataset = TensorDataset(sequences_tensor)\n",
    "\n",
    "train_size = int(0.8 * len(dataset))  # 80% 用于训练\n",
    "val_size = len(dataset) - train_size  # 剩余 20% 用于验证\n",
    "\n",
    "torch.save(sequences_tensor, '5utr_95_tmp.pt')\n",
    "\n",
    "print(f\"data saved in utr_95_tmp.pt\")"
   ]
  },
  {
   "cell_type": "code",
   "execution_count": null,
   "id": "7385a472-1403-43ef-a881-15bbd03adb3b",
   "metadata": {},
   "outputs": [],
   "source": []
  }
 ],
 "metadata": {
  "kernelspec": {
   "display_name": "Python 3 (ipykernel)",
   "language": "python",
   "name": "python3"
  },
  "language_info": {
   "codemirror_mode": {
    "name": "ipython",
    "version": 3
   },
   "file_extension": ".py",
   "mimetype": "text/x-python",
   "name": "python",
   "nbconvert_exporter": "python",
   "pygments_lexer": "ipython3",
   "version": "3.8.19"
  }
 },
 "nbformat": 4,
 "nbformat_minor": 5
}
