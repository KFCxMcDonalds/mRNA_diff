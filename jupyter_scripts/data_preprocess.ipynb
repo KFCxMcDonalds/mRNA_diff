{
 "cells": [
  {
   "cell_type": "code",
   "execution_count": 88,
   "id": "e667b2ee-88f8-4823-8bae-d05be70092a5",
   "metadata": {},
   "outputs": [
    {
     "name": "stdout",
     "output_type": "stream",
     "text": [
      "SYN, PLT, ENV sequences removed.\n"
     ]
    }
   ],
   "source": [
    "from Bio import SeqIO\n",
    "\n",
    "def remove_specific_records(input_file):\n",
    "    # 读取FASTA文件中的所有序列\n",
    "    sequences = list(SeqIO.parse(input_file, \"fasta\"))\n",
    "    \n",
    "    # 过滤掉描述中包含\"SYN\"、\"PAT\"或\"ENV\"的序列\n",
    "    filtered_sequences = [record for record in sequences if not any(keyword in record.description for keyword in [\"SYN\", \"PAT\", \"ENV\"])]\n",
    "    \n",
    "    # 将过滤后的序列写回原文件\n",
    "    with open(input_file, \"w\") as output_handle:\n",
    "        for record in filtered_sequences:\n",
    "            # 直接使用原始的头部信息\n",
    "            header = f\">{record.description}\\n\"\n",
    "            # 将序列转换为字符串，并确保只占一行\n",
    "            sequence = str(record.seq) + \"\\n\"\n",
    "            output_handle.write(header)\n",
    "            output_handle.write(sequence)\n",
    "\n",
    "# 使用示例\n",
    "input_file = \"../data/5utr_ncbi.fasta\"  # 替换为你的FASTA文件名\n",
    "remove_specific_records(input_file)\n",
    "\n",
    "print(\"SYN, PLT, ENV sequences removed.\")"
   ]
  },
  {
   "cell_type": "code",
   "execution_count": 90,
   "id": "c8e6eb25-c757-4448-a031-b885702787fe",
   "metadata": {},
   "outputs": [
    {
     "name": "stdout",
     "output_type": "stream",
     "text": [
      "essembl data merged.\n"
     ]
    }
   ],
   "source": [
    "def format_and_merge_files(input_files, output_file, species_dict):\n",
    "    with open(output_file, \"w\") as output_handle:\n",
    "        for input_file, species in input_files.items():\n",
    "            # 读取每个FASTA文件中的序列\n",
    "            sequences = SeqIO.parse(input_file, \"fasta\")\n",
    "            for record in sequences:\n",
    "                # 获取序列长度\n",
    "                seq_length = len(record.seq)\n",
    "                # 格式化描述信息\n",
    "                new_description = f\"> {seq_length} {species}\\n\"\n",
    "                # 写入新的描述和序列到输出文件\n",
    "                output_handle.write(new_description)\n",
    "                output_handle.write(str(record.seq) + \"\\n\")\n",
    "\n",
    "# 输入文件及其对应的物种类别\n",
    "input_files = {\n",
    "    \"../data/ensembl_5species/Fivespecies_chicken_energy_structure_31577sequence.fasta\": \"VRT\",\n",
    "    \"../data/ensembl_5species/Fivespecies_human_energy_structure_77835sequence.fasta\": \"PRI\",\n",
    "    \"../data/ensembl_5species/Fivespecies_mouse_energy_structure_48378sequence.fasta\": \"ROD\",\n",
    "    \"../data/ensembl_5species/Fivespecies_rat_energy_structure_27740sequence.fasta\": \"ROD\",\n",
    "    \"../data/ensembl_5species/Fivespecies_zebrafish_energy_structure_28819sequence.fasta\": \"VRT\"\n",
    "}\n",
    "\n",
    "# 输出文件\n",
    "output_file = \"../5utr_ensembl.fasta\"\n",
    "\n",
    "# 执行格式化和合并\n",
    "format_and_merge_files(input_files, output_file, input_files)\n",
    "\n",
    "print(\"essembl data merged.\")"
   ]
  },
  {
   "cell_type": "code",
   "execution_count": null,
   "id": "b37f7ca6-d40b-4d13-a8d0-99ac8143abd7",
   "metadata": {},
   "outputs": [],
   "source": []
  }
 ],
 "metadata": {
  "kernelspec": {
   "display_name": "Python 3 (ipykernel)",
   "language": "python",
   "name": "python3"
  },
  "language_info": {
   "codemirror_mode": {
    "name": "ipython",
    "version": 3
   },
   "file_extension": ".py",
   "mimetype": "text/x-python",
   "name": "python",
   "nbconvert_exporter": "python",
   "pygments_lexer": "ipython3",
   "version": "3.9.19"
  }
 },
 "nbformat": 4,
 "nbformat_minor": 5
}
