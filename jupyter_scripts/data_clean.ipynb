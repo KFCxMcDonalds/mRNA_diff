{
 "cells": [
  {
   "cell_type": "markdown",
   "id": "cdbbaacb-c93a-42a5-bbe5-085dd04bc617",
   "metadata": {},
   "source": [
    "# NCBI clean"
   ]
  },
  {
   "cell_type": "code",
   "execution_count": 88,
   "id": "e667b2ee-88f8-4823-8bae-d05be70092a5",
   "metadata": {},
   "outputs": [
    {
     "name": "stdout",
     "output_type": "stream",
     "text": [
      "SYN, PLT, ENV sequences removed.\n"
     ]
    }
   ],
   "source": [
    "from Bio import SeqIO\n",
    "\n",
    "def remove_specific_records(input_file):\n",
    "    # 读取FASTA文件中的所有序列\n",
    "    sequences = list(SeqIO.parse(input_file, \"fasta\"))\n",
    "    \n",
    "    # 过滤掉描述中包含\"SYN\"、\"PAT\"或\"ENV\"的序列\n",
    "    filtered_sequences = [record for record in sequences if not any(keyword in record.description for keyword in [\"SYN\", \"PAT\", \"ENV\"])]\n",
    "    \n",
    "    # 将过滤后的序列写回原文件\n",
    "    with open(input_file, \"w\") as output_handle:\n",
    "        for record in filtered_sequences:\n",
    "            # 直接使用原始的头部信息\n",
    "            header = f\">{record.description}\\n\"\n",
    "            # 将序列转换为字符串，并确保只占一行\n",
    "            sequence = str(record.seq) + \"\\n\"\n",
    "            output_handle.write(header)\n",
    "            output_handle.write(sequence)\n",
    "\n",
    "# 使用示例\n",
    "input_file = \"../data/5utr_ncbi.fasta\"  # 替换为你的FASTA文件名\n",
    "remove_specific_records(input_file)\n",
    "\n",
    "print(\"SYN, PLT, ENV sequences removed.\")"
   ]
  },
  {
   "cell_type": "markdown",
   "id": "f0b4510f-8eeb-4518-a67c-f09dea88fc24",
   "metadata": {},
   "source": [
    "# Ensenbl clean"
   ]
  },
  {
   "cell_type": "code",
   "execution_count": 90,
   "id": "c8e6eb25-c757-4448-a031-b885702787fe",
   "metadata": {},
   "outputs": [
    {
     "name": "stdout",
     "output_type": "stream",
     "text": [
      "essembl data merged.\n"
     ]
    }
   ],
   "source": [
    "def format_and_merge_files(input_files, output_file, species_dict):\n",
    "    with open(output_file, \"w\") as output_handle:\n",
    "        for input_file, species in input_files.items():\n",
    "            # 读取每个FASTA文件中的序列\n",
    "            sequences = SeqIO.parse(input_file, \"fasta\")\n",
    "            for record in sequences:\n",
    "                # 获取序列长度\n",
    "                seq_length = len(record.seq)\n",
    "                # 格式化描述信息\n",
    "                new_description = f\"> {seq_length} {species}\\n\"\n",
    "                # 写入新的描述和序列到输出文件\n",
    "                output_handle.write(new_description)\n",
    "                output_handle.write(str(record.seq) + \"\\n\")\n",
    "\n",
    "# 输入文件及其对应的物种类别\n",
    "input_files = {\n",
    "    \"../data/ensembl_5species/Fivespecies_chicken_energy_structure_31577sequence.fasta\": \"VRT\",\n",
    "    \"../data/ensembl_5species/Fivespecies_human_energy_structure_77835sequence.fasta\": \"PRI\",\n",
    "    \"../data/ensembl_5species/Fivespecies_mouse_energy_structure_48378sequence.fasta\": \"ROD\",\n",
    "    \"../data/ensembl_5species/Fivespecies_rat_energy_structure_27740sequence.fasta\": \"ROD\",\n",
    "    \"../data/ensembl_5species/Fivespecies_zebrafish_energy_structure_28819sequence.fasta\": \"VRT\"\n",
    "}\n",
    "\n",
    "# 输出文件\n",
    "output_file = \"../5utr_ensembl.fasta\"\n",
    "\n",
    "# 执行格式化和合并\n",
    "format_and_merge_files(input_files, output_file, input_files)\n",
    "\n",
    "print(\"essembl data merged.\")"
   ]
  },
  {
   "cell_type": "markdown",
   "id": "256f1732-753c-4fad-9c5f-68b5bc910913",
   "metadata": {},
   "source": [
    "# Full data clean\n",
    "\n",
    "delete unavailable sequences (has symbols not in [AGCTN])\n"
   ]
  },
  {
   "cell_type": "code",
   "execution_count": 8,
   "id": "bddda092-6343-48dc-a49a-08477e1e594e",
   "metadata": {},
   "outputs": [
    {
     "name": "stdout",
     "output_type": "stream",
     "text": [
      "file saved at ../data/5utr_95.fasta\n"
     ]
    }
   ],
   "source": [
    "from Bio import SeqIO\n",
    "\n",
    "def filter_fasta(input_file, output_file):\n",
    "    with open(output_file, 'w') as out_handle:\n",
    "        for record in SeqIO.parse(input_file, \"fasta\"):\n",
    "            # 检查序列中是否有不在ATCGN中的字符\n",
    "            if all(base in \"ATCG\" for base in record.seq.upper()):\n",
    "                header = f\">{record.description}\\n\"\n",
    "                # 将序列转换为字符串，并确保只占一行\n",
    "                sequence = str(record.seq) + \"\\n\"\n",
    "                out_handle.write(header)\n",
    "                out_handle.write(sequence)\n",
    "\n",
    "# 使用示例\n",
    "input_file = \"../data/5utr_95_bk.fasta\"\n",
    "output_fasta = \"../data/5utr_95.fasta\"\n",
    "filter_fasta(input_file, output_fasta)\n",
    "\n",
    "print(\"file saved at \"+ output_fasta)"
   ]
  },
  {
   "cell_type": "code",
   "execution_count": 1,
   "id": "f0191818-b5dc-4026-8e20-b10cbfa2e621",
   "metadata": {},
   "outputs": [
    {
     "name": "stdout",
     "output_type": "stream",
     "text": [
      "文件 'ohe_5utr_80_64to128.pt' 的数据形状为: torch.Size([27660, 5, 128])\n"
     ]
    }
   ],
   "source": [
    "import torch\n",
    "import os\n",
    "\n",
    "# 获取data文件夹的路径\n",
    "data_folder = \"../data\"\n",
    "\n",
    "# 获取data文件夹中的所有.pt文件\n",
    "pt_files = [f for f in os.listdir(data_folder) if f.endswith('.pt')]\n",
    "\n",
    "if pt_files:\n",
    "    # 随机选择一个.pt文件\n",
    "    random_pt_file = pt_files[0]\n",
    "    file_path = os.path.join(data_folder, random_pt_file)\n",
    "    \n",
    "    # 加载.pt文件\n",
    "    data = torch.load(file_path)\n",
    "    \n",
    "    # 打印数据的shape\n",
    "    print(f\"文件 '{random_pt_file}' 的数据形状为: {data.shape}\")\n",
    "else:\n",
    "    print(\"在data文件夹中没有找到.pt文件。\")\n"
   ]
  },
  {
   "cell_type": "code",
   "execution_count": null,
   "id": "3e4e8f5d-2180-429e-a111-570aec854de3",
   "metadata": {},
   "outputs": [],
   "source": []
  }
 ],
 "metadata": {
  "kernelspec": {
   "display_name": "Python 3 (ipykernel)",
   "language": "python",
   "name": "python3"
  },
  "language_info": {
   "codemirror_mode": {
    "name": "ipython",
    "version": 3
   },
   "file_extension": ".py",
   "mimetype": "text/x-python",
   "name": "python",
   "nbconvert_exporter": "python",
   "pygments_lexer": "ipython3",
   "version": "3.8.19"
  }
 },
 "nbformat": 4,
 "nbformat_minor": 5
}
